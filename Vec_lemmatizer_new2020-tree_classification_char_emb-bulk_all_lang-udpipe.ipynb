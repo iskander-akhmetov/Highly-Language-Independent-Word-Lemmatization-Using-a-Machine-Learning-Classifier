{
 "cells": [
  {
   "cell_type": "markdown",
   "metadata": {
    "toc": true
   },
   "source": [
    "<h1>Table of Contents<span class=\"tocSkip\"></span></h1>\n",
    "<div class=\"toc\"><ul class=\"toc-item\"><li><span><a href=\"#Imports\" data-toc-modified-id=\"Imports-1\"><span class=\"toc-item-num\">1&nbsp;&nbsp;</span>Imports</a></span></li><li><span><a href=\"#Load-data\" data-toc-modified-id=\"Load-data-2\"><span class=\"toc-item-num\">2&nbsp;&nbsp;</span>Load data</a></span></li><li><span><a href=\"#Publish-visualization\" data-toc-modified-id=\"Publish-visualization-3\"><span class=\"toc-item-num\">3&nbsp;&nbsp;</span>Publish visualization</a></span></li><li><span><a href=\"#Check-with-UDPIPE\" data-toc-modified-id=\"Check-with-UDPIPE-4\"><span class=\"toc-item-num\">4&nbsp;&nbsp;</span>Check with UDPIPE</a></span></li></ul></div>"
   ]
  },
  {
   "cell_type": "markdown",
   "metadata": {},
   "source": [
    "# Imports"
   ]
  },
  {
   "cell_type": "code",
   "execution_count": 1,
   "metadata": {
    "ExecuteTime": {
     "end_time": "2020-08-02T00:16:58.523134Z",
     "start_time": "2020-08-02T00:16:57.325575Z"
    }
   },
   "outputs": [],
   "source": [
    "#TODO clean unneeded imports\n",
    "import pandas as pd\n",
    "import numpy as np\n",
    "from nltk import word_tokenize\n",
    "import re\n",
    "\n",
    "from sklearn.feature_extraction.text import TfidfVectorizer, CountVectorizer\n",
    "#from sklearn.linear_model import LogisticRegression, LinearRegression, Lars, RidgeCV\n",
    "#from sklearn.svm import SVC, SVR\n",
    "from sklearn.model_selection import cross_val_score\n",
    "from sklearn.ensemble import GradientBoostingClassifier, RandomForestClassifier, ExtraTreesClassifier\n",
    "from sklearn.neighbors import KNeighborsClassifier\n",
    "from sklearn.tree import DecisionTreeClassifier\n",
    "from sklearn.multioutput import MultiOutputClassifier\n",
    "\n",
    "from sklearn.model_selection import RandomizedSearchCV, GridSearchCV, train_test_split, cross_val_score\n",
    "\n",
    "from tqdm import tnrange, tqdm_notebook\n",
    "from time import sleep\n",
    "import gc\n",
    "\n",
    "from matplotlib import pyplot as plt\n",
    "import os\n",
    "\n",
    "from sklearn.feature_extraction.text import TfidfVectorizer\n",
    "import pickle"
   ]
  },
  {
   "cell_type": "code",
   "execution_count": 2,
   "metadata": {
    "ExecuteTime": {
     "end_time": "2020-08-02T00:16:58.553577Z",
     "start_time": "2020-08-02T00:16:58.550492Z"
    }
   },
   "outputs": [],
   "source": [
    "def save_obj(obj, name):\n",
    "    pickle.dump(obj,open(name + '.pkl', 'wb'), protocol=4)\n",
    "    \n",
    "def load_obj(name):\n",
    "    with open(name + '.pkl', 'rb') as f:\n",
    "        return pickle.load(f)"
   ]
  },
  {
   "cell_type": "markdown",
   "metadata": {},
   "source": [
    "# Load data"
   ]
  },
  {
   "cell_type": "code",
   "execution_count": 2,
   "metadata": {
    "ExecuteTime": {
     "end_time": "2020-07-21T18:15:48.742120Z",
     "start_time": "2020-07-21T18:15:48.734709Z"
    }
   },
   "outputs": [
    {
     "data": {
      "text/plain": [
       "['lemmatization-cy.txt',\n",
       " 'lemmatization-fr.txt',\n",
       " 'lemmatization-ro.txt',\n",
       " 'lemmatization-cs.txt',\n",
       " 'lemmatization-tr.txt',\n",
       " 'lemmatization-it.txt',\n",
       " 'lemmatization-pt.txt',\n",
       " 'lemmatization-es.txt',\n",
       " 'lemmatization-ru.txt',\n",
       " 'lemmatization-bg.txt',\n",
       " 'lemmatization-sk.txt',\n",
       " 'lemmatization-gd.txt',\n",
       " 'lemmatization-hu.txt',\n",
       " 'lemmatization-sl.txt',\n",
       " 'lemmatization-et.txt',\n",
       " 'lemmatization-ca.txt',\n",
       " 'lemmatization-sv.txt',\n",
       " 'lemmatization-gl.txt',\n",
       " 'lemmatization-gv.txt',\n",
       " 'lemmatization-uk.txt',\n",
       " 'lemmatization-en.txt',\n",
       " 'lemmatization-fa.txt',\n",
       " 'lemmatization-de.txt',\n",
       " 'lemmatization-ast.txt',\n",
       " 'lemmatization-ga.txt']"
      ]
     },
     "execution_count": 2,
     "metadata": {},
     "output_type": "execute_result"
    }
   ],
   "source": [
    "files=os.listdir('DS_lemm/')\n",
    "files=[f for f in files if '.txt' in f]\n",
    "files"
   ]
  },
  {
   "cell_type": "code",
   "execution_count": 3,
   "metadata": {
    "ExecuteTime": {
     "end_time": "2020-07-21T18:15:52.430465Z",
     "start_time": "2020-07-21T18:15:52.424609Z"
    }
   },
   "outputs": [
    {
     "data": {
      "text/plain": [
       "25"
      ]
     },
     "execution_count": 3,
     "metadata": {},
     "output_type": "execute_result"
    }
   ],
   "source": [
    "len(files)"
   ]
  },
  {
   "cell_type": "code",
   "execution_count": 6,
   "metadata": {
    "ExecuteTime": {
     "end_time": "2020-07-21T18:42:26.516764Z",
     "start_time": "2020-07-21T18:42:26.451859Z"
    }
   },
   "outputs": [],
   "source": [
    "def get_lang(lang_code):\n",
    "    ds=pd.read_csv('lang_codes_dic.csv',';')\n",
    "    try:\n",
    "        return ds[ds.Code==lang_code].iloc[0,1]\n",
    "    except:\n",
    "        return 'Undefined'\n",
    "\n",
    "\n",
    "#vec encoding of words\n",
    "def alpha_vec2(w, mx, max_word_len, dic):\n",
    "    vec=np.zeros((max_word_len,len(dic)))    \n",
    "    for i in range(0, len(w)):\n",
    "        #print(i,w[i])\n",
    "        vec[i]=mx[dic.index(w[i])]\n",
    "        \n",
    "    vec=vec.astype('float16').flatten()\n",
    "    vec[vec==np.inf]=0 \n",
    "    vec[vec==-np.inf]=0        \n",
    "    return vec\n",
    "\n",
    "\n",
    "\n",
    "#ordinal encoding of words\n",
    "def alpha_vec2ord(w, max_word_len):\n",
    "    vec=np.zeros(max_word_len)    \n",
    "    for i in range(0, len(w)):        \n",
    "        vec[i]=ord(w[i])    \n",
    "    return vec.astype('int')\n",
    "\n",
    "#ordinal decoding of words\n",
    "def decode_vec(vec):\n",
    "    w=''.join([chr(int(v)) for v in vec if v!=0])    \n",
    "    return w.strip()\n",
    "\n",
    "def lemm_model(dictionary_file):\n",
    "    #load data\n",
    "    lex = pd.read_csv('DS_lemm/'+ dictionary_file,'\\t', encoding='utf8', names=['Lemma','Word_form'], keep_default_na=False)\n",
    "    lang_code=dictionary_file[dictionary_file.index('-')+1:-4]\n",
    "    lang=get_lang(lang_code)\n",
    "    print('Language: ', lang, lang_code)\n",
    "    number_words=lex.shape[0]\n",
    "    \n",
    "    X_lex=lex['Word_form'].str.strip()\n",
    "    X_lex=X_lex.values\n",
    "    \n",
    "    Y_lex=lex['Lemma'].str.strip()\n",
    "    Y_lex=Y_lex.values\n",
    "    \n",
    "    X_train, X_test, y_train, y_test = train_test_split(X_lex, Y_lex, test_size=0.1, random_state=42)\n",
    "    \n",
    "    #get max word length\n",
    "    max_word_len=max(max([len(w) for w in Y_lex]),max([len(w) for w in X_lex]))\n",
    "    \n",
    "    #Char2vec model\n",
    "    vectorizer = TfidfVectorizer(lowercase=False, analyzer='char')\n",
    "    X = vectorizer.fit_transform(X_lex)\n",
    "    dic=vectorizer.get_feature_names()#letter dictionary\n",
    "    num_letters=len(dic)\n",
    "    mx=X.T.dot(X)#letter cooccurence matrix\n",
    "    mx=mx.toarray()\n",
    "    \n",
    "    #Vectorize\n",
    "    X_lex_vec_train=[alpha_vec2(w, mx, max_word_len, dic) for w in X_train]\n",
    "    Y_lex_vec_train=[alpha_vec2ord(w, max_word_len) for w in y_train]\n",
    "    \n",
    "    X_lex_vec_test=[alpha_vec2(w, mx, max_word_len, dic) for w in X_test]\n",
    "    Y_lex_vec_test=[alpha_vec2ord(w, max_word_len) for w in y_test]\n",
    "    \n",
    "    #Build model\n",
    "    best_model=ExtraTreesClassifier(n_estimators=10, n_jobs=5, criterion='entropy', bootstrap=True)\n",
    "    \n",
    "    best_model.fit(X_lex_vec_train, Y_lex_vec_train)\n",
    "    \n",
    "    #Test\n",
    "    predicts_test=best_model.predict(X_lex_vec_test)\n",
    "    predicts_train=best_model.predict(X_lex_vec_train)\n",
    "    test_acc=sum([sum(p==y)==max_word_len for p,y in zip(predicts_test, Y_lex_vec_test)])/len(predicts_test)\n",
    "    train_acc=sum([sum(p==y)==max_word_len for p,y in zip(predicts_train, Y_lex_vec_train)])/len(predicts_train)\n",
    "    \n",
    "    #Return results\n",
    "    return test_acc, train_acc, max_word_len, num_letters, number_words, lang, lang_code, X_test, y_test"
   ]
  },
  {
   "cell_type": "code",
   "execution_count": 81,
   "metadata": {
    "ExecuteTime": {
     "end_time": "2020-07-20T13:22:57.512497Z",
     "start_time": "2020-07-20T13:03:56.676548Z"
    }
   },
   "outputs": [
    {
     "name": "stdout",
     "output_type": "stream",
     "text": [
      "Language:  Turkish tr\n"
     ]
    },
    {
     "data": {
      "text/plain": [
       "(0.9621795350923088, 0.9995739584821295, 50, 33, 1337898, 'Turkish', 'tr')"
      ]
     },
     "execution_count": 81,
     "metadata": {},
     "output_type": "execute_result"
    }
   ],
   "source": [
    "lemm_model('lemmatization-tr.txt')"
   ]
  },
  {
   "cell_type": "code",
   "execution_count": 7,
   "metadata": {
    "ExecuteTime": {
     "end_time": "2020-07-21T19:34:55.467945Z",
     "start_time": "2020-07-21T18:42:34.052688Z"
    }
   },
   "outputs": [
    {
     "data": {
      "application/vnd.jupyter.widget-view+json": {
       "model_id": "b96c8c6ce1db4c258775991379b35f7b",
       "version_major": 2,
       "version_minor": 0
      },
      "text/plain": [
       "HBox(children=(IntProgress(value=0, max=25), HTML(value='')))"
      ]
     },
     "metadata": {},
     "output_type": "display_data"
    },
    {
     "name": "stdout",
     "output_type": "stream",
     "text": [
      "Language:  Welsh cy\n",
      "0.8737299223338808 0.96423766087949 23 48 359224 Welsh cy\n",
      "Language:  French fr\n",
      "0.8111607142857142 0.9612299664184842 26 63 223999 French fr\n",
      "Language:  Romanian ro\n",
      "0.7859343731139418 0.965700651892323 53 63 314810 Romanian ro\n",
      "Language:  Czech cs\n",
      "0.46703296703296704 0.9423382173382173 26 79 36400 Czech cs\n",
      "Language:  Turkish tr\n",
      "0.9535167052844009 0.9966307009005837 50 33 1337898 Turkish tr\n",
      "Language:  Italian it\n",
      "0.9079394863375161 0.9755999035723826 29 34 341074 Italian it\n",
      "Language:  Portuguese pt\n",
      "0.8624084114457761 0.9668873826017299 26 50 850264 Portuguese pt\n",
      "Language:  Spanish es\n",
      "0.8663914619412002 0.9836999447341983 32 49 496591 Spanish es\n",
      "Language:  Russian ru\n",
      "0.7914858869526279 0.9101028088142388 27 34 2657468 Russian ru\n",
      "Language:  Bulgarian bg\n",
      "0.47642598087701943 0.9173323561744229 28 47 30323 Bulgarian bg\n",
      "Language:  Slovak sk\n",
      "0.9183150439178956 0.9858213862267854 29 78 858414 Slovak sk\n",
      "Language:  Undefined gd\n",
      "0.45322486926205696 0.9317061621575085 20 33 51624 Undefined gd\n",
      "Language:  Hungarian hu\n",
      "0.49799498746867166 0.9267294196279381 32 67 39898 Hungarian hu\n",
      "Language:  Slovenian sl\n",
      "0.7460381548400121 0.9751110413208309 26 77 99063 Slovenian sl\n",
      "Language:  Estonian et\n",
      "0.456915818226968 0.8956154631494716 38 61 80536 Estonian et\n",
      "Language:  Catalan ca\n",
      "0.8883253879703824 0.9828562305120403 23 53 591534 Catalan ca\n",
      "Language:  Swedish sv\n",
      "0.9036496134135142 0.9781229479463417 33 85 675137 Swedish sv\n",
      "Language:  Galician gl\n",
      "0.8852008349030189 0.9798710297819385 23 43 392856 Galician gl\n",
      "Language:  Undefined gv\n",
      "0.3895504614468592 0.9244281248449362 25 54 67177 Undefined gv\n",
      "Language:  Ukrainian uk\n",
      "0.8988178204532549 0.9821204247044449 31 66 193704 Ukrainian uk\n",
      "Language:  English en\n",
      "0.4763505402160864 0.9845800875040017 23 66 41649 English en\n",
      "Language:  Farsi fa\n",
      "0.37738853503184716 0.9697077059344553 18 44 6273 Farsi fa\n",
      "Language:  German de\n",
      "0.7578107565275608 0.97777295621852 25 59 358473 German de\n",
      "Language:  Undefined ast\n",
      "0.7064338235294118 0.9712599068551352 23 35 108792 Undefined ast\n",
      "Language:  Undefined ga\n",
      "0.7305480012514741 0.9728012493615473 28 54 415502 Undefined ga\n",
      "\n"
     ]
    }
   ],
   "source": [
    "results=[]\n",
    "xtests=[]\n",
    "ytests=[]\n",
    "langs=[]\n",
    "for f in tqdm_notebook(files):\n",
    "    test_acc, train_acc, max_word_len, num_letters, number_words, lang, lang_code, xtest, ytest=lemm_model(f)\n",
    "    print(test_acc, train_acc, max_word_len, num_letters, number_words, lang, lang_code)\n",
    "    results.append([test_acc, train_acc, max_word_len, num_letters, number_words, lang, lang_code])\n",
    "    xtests.append(xtest)\n",
    "    ytests.append(ytest)\n",
    "    langs.append([lang, lang_code])"
   ]
  },
  {
   "cell_type": "code",
   "execution_count": 8,
   "metadata": {
    "ExecuteTime": {
     "end_time": "2020-07-21T19:34:55.523247Z",
     "start_time": "2020-07-21T19:34:55.515488Z"
    }
   },
   "outputs": [],
   "source": []
  },
  {
   "cell_type": "code",
   "execution_count": 11,
   "metadata": {
    "ExecuteTime": {
     "end_time": "2020-07-22T04:21:10.952106Z",
     "start_time": "2020-07-22T04:21:09.844409Z"
    }
   },
   "outputs": [],
   "source": [
    "save_obj(xtests, 'xtests')\n",
    "save_obj(ytests, 'ytests')\n",
    "save_obj(langs, 'langs')"
   ]
  },
  {
   "cell_type": "code",
   "execution_count": 3,
   "metadata": {
    "ExecuteTime": {
     "end_time": "2020-08-02T00:17:06.100233Z",
     "start_time": "2020-08-02T00:17:05.758086Z"
    }
   },
   "outputs": [],
   "source": [
    "xtests=load_obj('xtests')\n",
    "ytests=load_obj('ytests')\n",
    "langs=load_obj('langs')"
   ]
  },
  {
   "cell_type": "code",
   "execution_count": 12,
   "metadata": {
    "ExecuteTime": {
     "end_time": "2020-07-22T04:21:22.007233Z",
     "start_time": "2020-07-22T04:21:21.986345Z"
    }
   },
   "outputs": [
    {
     "data": {
      "text/html": [
       "<div>\n",
       "<style scoped>\n",
       "    .dataframe tbody tr th:only-of-type {\n",
       "        vertical-align: middle;\n",
       "    }\n",
       "\n",
       "    .dataframe tbody tr th {\n",
       "        vertical-align: top;\n",
       "    }\n",
       "\n",
       "    .dataframe thead th {\n",
       "        text-align: right;\n",
       "    }\n",
       "</style>\n",
       "<table border=\"1\" class=\"dataframe\">\n",
       "  <thead>\n",
       "    <tr style=\"text-align: right;\">\n",
       "      <th></th>\n",
       "      <th>test_acc</th>\n",
       "      <th>train_acc</th>\n",
       "      <th>max_word_len</th>\n",
       "      <th>num_letters</th>\n",
       "      <th>number_words</th>\n",
       "      <th>lang</th>\n",
       "      <th>lang_code</th>\n",
       "    </tr>\n",
       "  </thead>\n",
       "  <tbody>\n",
       "    <tr>\n",
       "      <th>0</th>\n",
       "      <td>0.873730</td>\n",
       "      <td>0.964238</td>\n",
       "      <td>23</td>\n",
       "      <td>48</td>\n",
       "      <td>359224</td>\n",
       "      <td>Welsh</td>\n",
       "      <td>cy</td>\n",
       "    </tr>\n",
       "    <tr>\n",
       "      <th>1</th>\n",
       "      <td>0.811161</td>\n",
       "      <td>0.961230</td>\n",
       "      <td>26</td>\n",
       "      <td>63</td>\n",
       "      <td>223999</td>\n",
       "      <td>French</td>\n",
       "      <td>fr</td>\n",
       "    </tr>\n",
       "    <tr>\n",
       "      <th>2</th>\n",
       "      <td>0.785934</td>\n",
       "      <td>0.965701</td>\n",
       "      <td>53</td>\n",
       "      <td>63</td>\n",
       "      <td>314810</td>\n",
       "      <td>Romanian</td>\n",
       "      <td>ro</td>\n",
       "    </tr>\n",
       "    <tr>\n",
       "      <th>3</th>\n",
       "      <td>0.467033</td>\n",
       "      <td>0.942338</td>\n",
       "      <td>26</td>\n",
       "      <td>79</td>\n",
       "      <td>36400</td>\n",
       "      <td>Czech</td>\n",
       "      <td>cs</td>\n",
       "    </tr>\n",
       "    <tr>\n",
       "      <th>4</th>\n",
       "      <td>0.953517</td>\n",
       "      <td>0.996631</td>\n",
       "      <td>50</td>\n",
       "      <td>33</td>\n",
       "      <td>1337898</td>\n",
       "      <td>Turkish</td>\n",
       "      <td>tr</td>\n",
       "    </tr>\n",
       "  </tbody>\n",
       "</table>\n",
       "</div>"
      ],
      "text/plain": [
       "   test_acc  train_acc  max_word_len  num_letters  number_words      lang  \\\n",
       "0  0.873730   0.964238            23           48        359224     Welsh   \n",
       "1  0.811161   0.961230            26           63        223999    French   \n",
       "2  0.785934   0.965701            53           63        314810  Romanian   \n",
       "3  0.467033   0.942338            26           79         36400     Czech   \n",
       "4  0.953517   0.996631            50           33       1337898   Turkish   \n",
       "\n",
       "  lang_code  \n",
       "0        cy  \n",
       "1        fr  \n",
       "2        ro  \n",
       "3        cs  \n",
       "4        tr  "
      ]
     },
     "execution_count": 12,
     "metadata": {},
     "output_type": "execute_result"
    }
   ],
   "source": [
    "results_ds=pd.DataFrame(results, \n",
    "                        columns=['test_acc', 'train_acc', 'max_word_len', 'num_letters', 'number_words', 'lang', 'lang_code'])\n",
    "results_ds.head()"
   ]
  },
  {
   "cell_type": "code",
   "execution_count": 13,
   "metadata": {
    "ExecuteTime": {
     "end_time": "2020-07-22T04:22:23.999643Z",
     "start_time": "2020-07-22T04:22:23.982828Z"
    }
   },
   "outputs": [],
   "source": [
    "results_ds.to_csv('results_ds.csv', ';', index=False)"
   ]
  },
  {
   "cell_type": "code",
   "execution_count": 14,
   "metadata": {
    "ExecuteTime": {
     "end_time": "2020-07-22T04:22:26.094704Z",
     "start_time": "2020-07-22T04:22:25.993537Z"
    }
   },
   "outputs": [
    {
     "data": {
      "text/html": [
       "<div>\n",
       "<style scoped>\n",
       "    .dataframe tbody tr th:only-of-type {\n",
       "        vertical-align: middle;\n",
       "    }\n",
       "\n",
       "    .dataframe tbody tr th {\n",
       "        vertical-align: top;\n",
       "    }\n",
       "\n",
       "    .dataframe thead th {\n",
       "        text-align: right;\n",
       "    }\n",
       "</style>\n",
       "<table border=\"1\" class=\"dataframe\">\n",
       "  <thead>\n",
       "    <tr style=\"text-align: right;\">\n",
       "      <th></th>\n",
       "      <th>test_acc</th>\n",
       "      <th>train_acc</th>\n",
       "      <th>max_word_len</th>\n",
       "      <th>num_letters</th>\n",
       "      <th>number_words</th>\n",
       "    </tr>\n",
       "  </thead>\n",
       "  <tbody>\n",
       "    <tr>\n",
       "      <th>count</th>\n",
       "      <td>25.000000</td>\n",
       "      <td>25.000000</td>\n",
       "      <td>25.000000</td>\n",
       "      <td>25.00000</td>\n",
       "      <td>2.500000e+01</td>\n",
       "    </tr>\n",
       "    <tr>\n",
       "      <th>mean</th>\n",
       "      <td>0.715304</td>\n",
       "      <td>0.960891</td>\n",
       "      <td>28.680000</td>\n",
       "      <td>55.00000</td>\n",
       "      <td>4.251473e+05</td>\n",
       "    </tr>\n",
       "    <tr>\n",
       "      <th>std</th>\n",
       "      <td>0.197316</td>\n",
       "      <td>0.027464</td>\n",
       "      <td>8.137977</td>\n",
       "      <td>15.47848</td>\n",
       "      <td>5.691397e+05</td>\n",
       "    </tr>\n",
       "    <tr>\n",
       "      <th>min</th>\n",
       "      <td>0.377389</td>\n",
       "      <td>0.895615</td>\n",
       "      <td>18.000000</td>\n",
       "      <td>33.00000</td>\n",
       "      <td>6.273000e+03</td>\n",
       "    </tr>\n",
       "    <tr>\n",
       "      <th>25%</th>\n",
       "      <td>0.476426</td>\n",
       "      <td>0.942338</td>\n",
       "      <td>23.000000</td>\n",
       "      <td>44.00000</td>\n",
       "      <td>6.717700e+04</td>\n",
       "    </tr>\n",
       "    <tr>\n",
       "      <th>50%</th>\n",
       "      <td>0.785934</td>\n",
       "      <td>0.971260</td>\n",
       "      <td>26.000000</td>\n",
       "      <td>54.00000</td>\n",
       "      <td>3.148100e+05</td>\n",
       "    </tr>\n",
       "    <tr>\n",
       "      <th>75%</th>\n",
       "      <td>0.885201</td>\n",
       "      <td>0.979871</td>\n",
       "      <td>31.000000</td>\n",
       "      <td>66.00000</td>\n",
       "      <td>4.965910e+05</td>\n",
       "    </tr>\n",
       "    <tr>\n",
       "      <th>max</th>\n",
       "      <td>0.953517</td>\n",
       "      <td>0.996631</td>\n",
       "      <td>53.000000</td>\n",
       "      <td>85.00000</td>\n",
       "      <td>2.657468e+06</td>\n",
       "    </tr>\n",
       "  </tbody>\n",
       "</table>\n",
       "</div>"
      ],
      "text/plain": [
       "        test_acc  train_acc  max_word_len  num_letters  number_words\n",
       "count  25.000000  25.000000     25.000000     25.00000  2.500000e+01\n",
       "mean    0.715304   0.960891     28.680000     55.00000  4.251473e+05\n",
       "std     0.197316   0.027464      8.137977     15.47848  5.691397e+05\n",
       "min     0.377389   0.895615     18.000000     33.00000  6.273000e+03\n",
       "25%     0.476426   0.942338     23.000000     44.00000  6.717700e+04\n",
       "50%     0.785934   0.971260     26.000000     54.00000  3.148100e+05\n",
       "75%     0.885201   0.979871     31.000000     66.00000  4.965910e+05\n",
       "max     0.953517   0.996631     53.000000     85.00000  2.657468e+06"
      ]
     },
     "execution_count": 14,
     "metadata": {},
     "output_type": "execute_result"
    }
   ],
   "source": [
    "results_ds.describe()"
   ]
  },
  {
   "cell_type": "code",
   "execution_count": 15,
   "metadata": {
    "ExecuteTime": {
     "end_time": "2020-07-22T04:22:43.847545Z",
     "start_time": "2020-07-22T04:22:43.830960Z"
    }
   },
   "outputs": [
    {
     "data": {
      "text/html": [
       "<div>\n",
       "<style scoped>\n",
       "    .dataframe tbody tr th:only-of-type {\n",
       "        vertical-align: middle;\n",
       "    }\n",
       "\n",
       "    .dataframe tbody tr th {\n",
       "        vertical-align: top;\n",
       "    }\n",
       "\n",
       "    .dataframe thead th {\n",
       "        text-align: right;\n",
       "    }\n",
       "</style>\n",
       "<table border=\"1\" class=\"dataframe\">\n",
       "  <thead>\n",
       "    <tr style=\"text-align: right;\">\n",
       "      <th></th>\n",
       "      <th>test_acc</th>\n",
       "      <th>train_acc</th>\n",
       "      <th>max_word_len</th>\n",
       "      <th>num_letters</th>\n",
       "      <th>number_words</th>\n",
       "    </tr>\n",
       "  </thead>\n",
       "  <tbody>\n",
       "    <tr>\n",
       "      <th>test_acc</th>\n",
       "      <td>1.000000</td>\n",
       "      <td>0.641023</td>\n",
       "      <td>0.284822</td>\n",
       "      <td>-0.032314</td>\n",
       "      <td>0.491264</td>\n",
       "    </tr>\n",
       "    <tr>\n",
       "      <th>train_acc</th>\n",
       "      <td>0.641023</td>\n",
       "      <td>1.000000</td>\n",
       "      <td>0.047900</td>\n",
       "      <td>0.095991</td>\n",
       "      <td>-0.008822</td>\n",
       "    </tr>\n",
       "    <tr>\n",
       "      <th>max_word_len</th>\n",
       "      <td>0.284822</td>\n",
       "      <td>0.047900</td>\n",
       "      <td>1.000000</td>\n",
       "      <td>0.110813</td>\n",
       "      <td>0.214865</td>\n",
       "    </tr>\n",
       "    <tr>\n",
       "      <th>num_letters</th>\n",
       "      <td>-0.032314</td>\n",
       "      <td>0.095991</td>\n",
       "      <td>0.110813</td>\n",
       "      <td>1.000000</td>\n",
       "      <td>-0.282869</td>\n",
       "    </tr>\n",
       "    <tr>\n",
       "      <th>number_words</th>\n",
       "      <td>0.491264</td>\n",
       "      <td>-0.008822</td>\n",
       "      <td>0.214865</td>\n",
       "      <td>-0.282869</td>\n",
       "      <td>1.000000</td>\n",
       "    </tr>\n",
       "  </tbody>\n",
       "</table>\n",
       "</div>"
      ],
      "text/plain": [
       "              test_acc  train_acc  max_word_len  num_letters  number_words\n",
       "test_acc      1.000000   0.641023      0.284822    -0.032314      0.491264\n",
       "train_acc     0.641023   1.000000      0.047900     0.095991     -0.008822\n",
       "max_word_len  0.284822   0.047900      1.000000     0.110813      0.214865\n",
       "num_letters  -0.032314   0.095991      0.110813     1.000000     -0.282869\n",
       "number_words  0.491264  -0.008822      0.214865    -0.282869      1.000000"
      ]
     },
     "execution_count": 15,
     "metadata": {},
     "output_type": "execute_result"
    }
   ],
   "source": [
    "results_ds.iloc[:,:5].corr()"
   ]
  },
  {
   "cell_type": "code",
   "execution_count": 16,
   "metadata": {
    "ExecuteTime": {
     "end_time": "2020-07-22T04:23:21.460124Z",
     "start_time": "2020-07-22T04:23:11.988302Z"
    }
   },
   "outputs": [
    {
     "data": {
      "text/plain": [
       "<seaborn.axisgrid.PairGrid at 0x7fc446cd6fd0>"
      ]
     },
     "execution_count": 16,
     "metadata": {},
     "output_type": "execute_result"
    },
    {
     "data": {
      "image/png": "[encoded data removed]",
      "text/plain": [
       "<Figure size 900x900 with 30 Axes>"
      ]
     },
     "metadata": {
      "needs_background": "light"
     },
     "output_type": "display_data"
    }
   ],
   "source": [
    "import seaborn as sns\n",
    "sns.pairplot(results_ds)"
   ]
  },
  {
   "cell_type": "code",
   "execution_count": null,
   "metadata": {
    "ExecuteTime": {
     "end_time": "2020-07-23T17:09:53.535129Z",
     "start_time": "2020-07-22T12:09:14.860Z"
    }
   },
   "outputs": [],
   "source": [
    "import plotly.express as px\n",
    "\n",
    "fig = px.scatter(results_ds, x=\"number_words\", y=\"test_acc\", color=\"lang_code\",\n",
    "                 size='max_word_len', hover_data=['lang'])#[results_ds.number_words>300000]\n",
    "fig.show()"
   ]
  },
  {
   "cell_type": "markdown",
   "metadata": {},
   "source": [
    "# Publish visualization"
   ]
  },
  {
   "cell_type": "code",
   "execution_count": 25,
   "metadata": {
    "ExecuteTime": {
     "end_time": "2020-07-20T19:13:58.448083Z",
     "start_time": "2020-07-20T19:13:57.953585Z"
    }
   },
   "outputs": [],
   "source": [
    "import chart_studio"
   ]
  },
  {
   "cell_type": "code",
   "execution_count": 26,
   "metadata": {
    "ExecuteTime": {
     "end_time": "2020-07-20T19:14:01.717915Z",
     "start_time": "2020-07-20T19:14:01.694900Z"
    }
   },
   "outputs": [],
   "source": [
    "username = 'XXXXXXXXXX' # your username\n",
    "api_key = 'YYYYYYYYY' # your api key - go to profile > settings > regenerate key\n",
    "chart_studio.tools.set_credentials_file(username=username, api_key=api_key)"
   ]
  },
  {
   "cell_type": "code",
   "execution_count": 27,
   "metadata": {
    "ExecuteTime": {
     "end_time": "2020-07-20T19:14:39.745085Z",
     "start_time": "2020-07-20T19:14:35.794530Z"
    }
   },
   "outputs": [
    {
     "data": {
      "text/plain": [
       "'https://plotly.com/~isa_almaty/8/'"
      ]
     },
     "execution_count": 27,
     "metadata": {},
     "output_type": "execute_result"
    }
   ],
   "source": [
    "import chart_studio.plotly as py\n",
    "py.plot(fig, filename = 'lemmatization', auto_open=True)"
   ]
  },
  {
   "cell_type": "markdown",
   "metadata": {},
   "source": [
    "# Check with UDPIPE"
   ]
  },
  {
   "cell_type": "code",
   "execution_count": 4,
   "metadata": {
    "ExecuteTime": {
     "end_time": "2020-08-02T00:17:09.806150Z",
     "start_time": "2020-08-02T00:17:09.702108Z"
    }
   },
   "outputs": [],
   "source": [
    "import requests\n",
    "import json\n",
    "\n",
    "def get_udpipe_lemm(lang_code, word):\n",
    "    response = requests.get('http://lindat.mff.cuni.cz/services/udpipe/api/process?model='+lang_code+'&tokenizer&tagger&parser&data='+word)\n",
    "    y = json.loads(response.text)\n",
    "    return y[\"result\"].split('\\n')[4].split('\\t')[2]"
   ]
  },
  {
   "cell_type": "code",
   "execution_count": 41,
   "metadata": {
    "ExecuteTime": {
     "end_time": "2020-07-22T04:48:28.076271Z",
     "start_time": "2020-07-22T04:48:27.833885Z"
    }
   },
   "outputs": [
    {
     "data": {
      "text/plain": [
       "'Internet'"
      ]
     },
     "execution_count": 41,
     "metadata": {},
     "output_type": "execute_result"
    }
   ],
   "source": [
    "get_udpipe_lemm('tr', 'Internet')"
   ]
  },
  {
   "cell_type": "code",
   "execution_count": 5,
   "metadata": {
    "ExecuteTime": {
     "end_time": "2020-08-02T00:17:13.590628Z",
     "start_time": "2020-08-02T00:17:13.581360Z"
    }
   },
   "outputs": [
    {
     "data": {
      "text/plain": [
       "[['Welsh', 'cy'],\n",
       " ['French', 'fr'],\n",
       " ['Romanian', 'ro'],\n",
       " ['Czech', 'cs'],\n",
       " ['Turkish', 'tr'],\n",
       " ['Italian', 'it'],\n",
       " ['Portuguese', 'pt'],\n",
       " ['Spanish', 'es'],\n",
       " ['Russian', 'ru'],\n",
       " ['Bulgarian', 'bg'],\n",
       " ['Slovak', 'sk'],\n",
       " ['Undefined', 'gd'],\n",
       " ['Hungarian', 'hu'],\n",
       " ['Slovenian', 'sl'],\n",
       " ['Estonian', 'et'],\n",
       " ['Catalan', 'ca'],\n",
       " ['Swedish', 'sv'],\n",
       " ['Galician', 'gl'],\n",
       " ['Undefined', 'gv'],\n",
       " ['Ukrainian', 'uk'],\n",
       " ['English', 'en'],\n",
       " ['Farsi', 'fa'],\n",
       " ['German', 'de'],\n",
       " ['Undefined', 'ast'],\n",
       " ['Undefined', 'ga']]"
      ]
     },
     "execution_count": 5,
     "metadata": {},
     "output_type": "execute_result"
    }
   ],
   "source": [
    "langs"
   ]
  },
  {
   "cell_type": "code",
   "execution_count": 6,
   "metadata": {
    "ExecuteTime": {
     "end_time": "2020-08-08T15:19:01.833059Z",
     "start_time": "2020-08-02T00:17:18.311588Z"
    }
   },
   "outputs": [
    {
     "data": {
      "application/vnd.jupyter.widget-view+json": {
       "model_id": "16c00ad6d96e4d859f9b33ec30a5c2fe",
       "version_major": 2,
       "version_minor": 0
      },
      "text/plain": [
       "HBox(children=(IntProgress(value=0, description='languages', max=25, style=ProgressStyle(description_width='in…"
      ]
     },
     "metadata": {},
     "output_type": "display_data"
    },
    {
     "name": "stdout",
     "output_type": "stream",
     "text": [
      "['French', 'fr'] Internet\n"
     ]
    },
    {
     "data": {
      "application/vnd.jupyter.widget-view+json": {
       "model_id": "e9a03d032a67440fb45f1133ae612cd5",
       "version_major": 2,
       "version_minor": 0
      },
      "text/plain": [
       "HBox(children=(IntProgress(value=0, description='words', max=22400, style=ProgressStyle(description_width='ini…"
      ]
     },
     "metadata": {},
     "output_type": "display_data"
    },
    {
     "name": "stdout",
     "output_type": "stream",
     "text": [
      "\n",
      "UDPIPE accuracy 0.5008035714285715\n",
      "['Romanian', 'ro'] internet\n"
     ]
    },
    {
     "data": {
      "application/vnd.jupyter.widget-view+json": {
       "model_id": "02c3ff1f07d646e79eb21812d0c0203d",
       "version_major": 2,
       "version_minor": 0
      },
      "text/plain": [
       "HBox(children=(IntProgress(value=0, description='words', max=31481, style=ProgressStyle(description_width='ini…"
      ]
     },
     "metadata": {},
     "output_type": "display_data"
    },
    {
     "name": "stdout",
     "output_type": "stream",
     "text": [
      "\n",
      "UDPIPE accuracy 0.41450398653155873\n",
      "['Czech', 'cs'] internet\n"
     ]
    },
    {
     "data": {
      "application/vnd.jupyter.widget-view+json": {
       "model_id": "9c5cdf1a9a654fc6a3d5013f4bf14e86",
       "version_major": 2,
       "version_minor": 0
      },
      "text/plain": [
       "HBox(children=(IntProgress(value=0, description='words', max=3640, style=ProgressStyle(description_width='init…"
      ]
     },
     "metadata": {},
     "output_type": "display_data"
    },
    {
     "name": "stdout",
     "output_type": "stream",
     "text": [
      "\n",
      "UDPIPE accuracy 0.7752747252747253\n",
      "['Turkish', 'tr'] Internet\n"
     ]
    },
    {
     "data": {
      "application/vnd.jupyter.widget-view+json": {
       "model_id": "a5c80c69eccd43c2a9a561413cb1b3bc",
       "version_major": 2,
       "version_minor": 0
      },
      "text/plain": [
       "HBox(children=(IntProgress(value=0, description='words', max=133790, style=ProgressStyle(description_width='in…"
      ]
     },
     "metadata": {},
     "output_type": "display_data"
    },
    {
     "name": "stdout",
     "output_type": "stream",
     "text": [
      "\n",
      "UDPIPE accuracy 0.29177068540249645\n",
      "['Italian', 'it'] Internet\n"
     ]
    },
    {
     "data": {
      "application/vnd.jupyter.widget-view+json": {
       "model_id": "5e1aa7e9bf1b4794b1686458f4b78143",
       "version_major": 2,
       "version_minor": 0
      },
      "text/plain": [
       "HBox(children=(IntProgress(value=0, description='words', max=34108, style=ProgressStyle(description_width='ini…"
      ]
     },
     "metadata": {},
     "output_type": "display_data"
    },
    {
     "name": "stdout",
     "output_type": "stream",
     "text": [
      "\n",
      "UDPIPE accuracy 0.4366424299284625\n",
      "['Portuguese', 'pt'] _\n"
     ]
    },
    {
     "data": {
      "application/vnd.jupyter.widget-view+json": {
       "model_id": "3ab47dd8394d44eaa2e49c188cc6479f",
       "version_major": 2,
       "version_minor": 0
      },
      "text/plain": [
       "HBox(children=(IntProgress(value=0, description='words', max=85027, style=ProgressStyle(description_width='ini…"
      ]
     },
     "metadata": {},
     "output_type": "display_data"
    },
    {
     "name": "stdout",
     "output_type": "stream",
     "text": [
      "\n",
      "UDPIPE accuracy 0.38898232326202264\n",
      "['Spanish', 'es'] internet\n"
     ]
    },
    {
     "data": {
      "application/vnd.jupyter.widget-view+json": {
       "model_id": "73ef1180bd5b4c70b5923697357a7e1a",
       "version_major": 2,
       "version_minor": 0
      },
      "text/plain": [
       "HBox(children=(IntProgress(value=0, description='words', max=49660, style=ProgressStyle(description_width='ini…"
      ]
     },
     "metadata": {},
     "output_type": "display_data"
    },
    {
     "name": "stdout",
     "output_type": "stream",
     "text": [
      "\n",
      "UDPIPE accuracy 0.5197341925090616\n",
      "['Russian', 'ru'] internet\n"
     ]
    },
    {
     "data": {
      "application/vnd.jupyter.widget-view+json": {
       "model_id": "2fa3654f37e844089a3c11aba71d7fe2",
       "version_major": 2,
       "version_minor": 0
      },
      "text/plain": [
       "HBox(children=(IntProgress(value=0, description='words', max=265747, style=ProgressStyle(description_width='in…"
      ]
     },
     "metadata": {},
     "output_type": "display_data"
    },
    {
     "name": "stdout",
     "output_type": "stream",
     "text": [
      "\n",
      "UDPIPE accuracy 0.5148505909756272\n",
      "['Bulgarian', 'bg'] Internet\n"
     ]
    },
    {
     "data": {
      "application/vnd.jupyter.widget-view+json": {
       "model_id": "2bd28b0e0eaa49f49a9c7f89a152b69d",
       "version_major": 2,
       "version_minor": 0
      },
      "text/plain": [
       "HBox(children=(IntProgress(value=0, description='words', max=3033, style=ProgressStyle(description_width='init…"
      ]
     },
     "metadata": {},
     "output_type": "display_data"
    },
    {
     "name": "stdout",
     "output_type": "stream",
     "text": [
      "\n",
      "UDPIPE accuracy 0.4807121661721068\n",
      "['Slovak', 'sk'] internet\n"
     ]
    },
    {
     "data": {
      "application/vnd.jupyter.widget-view+json": {
       "model_id": "5edbabb8f91c46eca4696f7c4b4ff25b",
       "version_major": 2,
       "version_minor": 0
      },
      "text/plain": [
       "HBox(children=(IntProgress(value=0, description='words', max=85842, style=ProgressStyle(description_width='ini…"
      ]
     },
     "metadata": {},
     "output_type": "display_data"
    },
    {
     "name": "stdout",
     "output_type": "stream",
     "text": [
      "\n",
      "UDPIPE accuracy 0.3636797837888213\n",
      "['Undefined', 'gd'] Internet\n"
     ]
    },
    {
     "data": {
      "application/vnd.jupyter.widget-view+json": {
       "model_id": "26da2d1cfc5a4d8dbf0854cc9f51769e",
       "version_major": 2,
       "version_minor": 0
      },
      "text/plain": [
       "HBox(children=(IntProgress(value=0, description='words', max=5163, style=ProgressStyle(description_width='init…"
      ]
     },
     "metadata": {},
     "output_type": "display_data"
    },
    {
     "name": "stdout",
     "output_type": "stream",
     "text": [
      "\n",
      "UDPIPE accuracy 0.14894441216347085\n",
      "['Hungarian', 'hu'] Internet\n"
     ]
    },
    {
     "data": {
      "application/vnd.jupyter.widget-view+json": {
       "model_id": "44b49b37379943f1b84a75292a16e7db",
       "version_major": 2,
       "version_minor": 0
      },
      "text/plain": [
       "HBox(children=(IntProgress(value=0, description='words', max=3990, style=ProgressStyle(description_width='init…"
      ]
     },
     "metadata": {},
     "output_type": "display_data"
    },
    {
     "name": "stdout",
     "output_type": "stream",
     "text": [
      "\n",
      "UDPIPE accuracy 0.5979949874686716\n",
      "['Slovenian', 'sl'] internet\n"
     ]
    },
    {
     "data": {
      "application/vnd.jupyter.widget-view+json": {
       "model_id": "0e638b3e1de446789bd349a3c098fea2",
       "version_major": 2,
       "version_minor": 0
      },
      "text/plain": [
       "HBox(children=(IntProgress(value=0, description='words', max=9907, style=ProgressStyle(description_width='init…"
      ]
     },
     "metadata": {},
     "output_type": "display_data"
    },
    {
     "name": "stdout",
     "output_type": "stream",
     "text": [
      "\n",
      "UDPIPE accuracy 0.6776016957706672\n",
      "['Estonian', 'et'] internet\n"
     ]
    },
    {
     "data": {
      "application/vnd.jupyter.widget-view+json": {
       "model_id": "69de5b78ecc34f7badba3e2dcad1105f",
       "version_major": 2,
       "version_minor": 0
      },
      "text/plain": [
       "HBox(children=(IntProgress(value=0, description='words', max=8054, style=ProgressStyle(description_width='init…"
      ]
     },
     "metadata": {},
     "output_type": "display_data"
    },
    {
     "name": "stdout",
     "output_type": "stream",
     "text": [
      "\n",
      "UDPIPE accuracy 0.6272659548050658\n",
      "['Catalan', 'ca'] Internet\n"
     ]
    },
    {
     "data": {
      "application/vnd.jupyter.widget-view+json": {
       "model_id": "d530bb4b8c5046d490f1e172caed1249",
       "version_major": 2,
       "version_minor": 0
      },
      "text/plain": [
       "HBox(children=(IntProgress(value=0, description='words', max=59154, style=ProgressStyle(description_width='ini…"
      ]
     },
     "metadata": {},
     "output_type": "display_data"
    },
    {
     "name": "stdout",
     "output_type": "stream",
     "text": [
      "\n",
      "UDPIPE accuracy 0.384301991412246\n",
      "['Swedish', 'sv'] Intern\n"
     ]
    },
    {
     "data": {
      "application/vnd.jupyter.widget-view+json": {
       "model_id": "4ff2caffc5d942a7959892f38959fca8",
       "version_major": 2,
       "version_minor": 0
      },
      "text/plain": [
       "HBox(children=(IntProgress(value=0, description='words', max=67514, style=ProgressStyle(description_width='ini…"
      ]
     },
     "metadata": {},
     "output_type": "display_data"
    },
    {
     "name": "stdout",
     "output_type": "stream",
     "text": [
      "\n",
      "UDPIPE accuracy 0.4882394762567764\n",
      "['Galician', 'gl'] internet\n"
     ]
    },
    {
     "data": {
      "application/vnd.jupyter.widget-view+json": {
       "model_id": "48c1bbd4c3504b58a7e2b56794972a9f",
       "version_major": 2,
       "version_minor": 0
      },
      "text/plain": [
       "HBox(children=(IntProgress(value=0, description='words', max=39286, style=ProgressStyle(description_width='ini…"
      ]
     },
     "metadata": {},
     "output_type": "display_data"
    },
    {
     "name": "stdout",
     "output_type": "stream",
     "text": [
      "\n",
      "UDPIPE accuracy 0.5190653158886117\n",
      "['Ukrainian', 'uk'] Internet\n"
     ]
    },
    {
     "data": {
      "application/vnd.jupyter.widget-view+json": {
       "model_id": "08146aeb16ec41738ca217586b743017",
       "version_major": 2,
       "version_minor": 0
      },
      "text/plain": [
       "HBox(children=(IntProgress(value=0, description='words', max=19371, style=ProgressStyle(description_width='ini…"
      ]
     },
     "metadata": {},
     "output_type": "display_data"
    },
    {
     "name": "stdout",
     "output_type": "stream",
     "text": [
      "\n",
      "UDPIPE accuracy 0.6086934076712611\n",
      "['English', 'en'] internet\n"
     ]
    },
    {
     "data": {
      "application/vnd.jupyter.widget-view+json": {
       "model_id": "47659a37157a45fa80a78c7e2f316aed",
       "version_major": 2,
       "version_minor": 0
      },
      "text/plain": [
       "HBox(children=(IntProgress(value=0, description='words', max=4165, style=ProgressStyle(description_width='init…"
      ]
     },
     "metadata": {},
     "output_type": "display_data"
    },
    {
     "name": "stdout",
     "output_type": "stream",
     "text": [
      "\n",
      "UDPIPE accuracy 0.7337334933973589\n",
      "['Farsi', 'fa'] Internet\n"
     ]
    },
    {
     "data": {
      "application/vnd.jupyter.widget-view+json": {
       "model_id": "19acb096d8e94956ab1f3eb9bef1bb31",
       "version_major": 2,
       "version_minor": 0
      },
      "text/plain": [
       "HBox(children=(IntProgress(value=0, description='words', max=628, style=ProgressStyle(description_width='initi…"
      ]
     },
     "metadata": {},
     "output_type": "display_data"
    },
    {
     "name": "stdout",
     "output_type": "stream",
     "text": [
      "\n",
      "UDPIPE accuracy 0.39171974522292996\n",
      "['German', 'de'] Internet\n"
     ]
    },
    {
     "data": {
      "application/vnd.jupyter.widget-view+json": {
       "model_id": "404c75f0ebf74821be0b723374068e7b",
       "version_major": 2,
       "version_minor": 0
      },
      "text/plain": [
       "HBox(children=(IntProgress(value=0, description='words', max=35848, style=ProgressStyle(description_width='ini…"
      ]
     },
     "metadata": {},
     "output_type": "display_data"
    },
    {
     "name": "stdout",
     "output_type": "stream",
     "text": [
      "\n",
      "UDPIPE accuracy 0.30551216246373575\n",
      "['Undefined', 'ga'] Internet\n"
     ]
    },
    {
     "data": {
      "application/vnd.jupyter.widget-view+json": {
       "model_id": "4677d49fbd4446a2b961b6def3a780b5",
       "version_major": 2,
       "version_minor": 0
      },
      "text/plain": [
       "HBox(children=(IntProgress(value=0, description='words', max=41551, style=ProgressStyle(description_width='ini…"
      ]
     },
     "metadata": {},
     "output_type": "display_data"
    },
    {
     "name": "stdout",
     "output_type": "stream",
     "text": [
      "\n",
      "UDPIPE accuracy 0.16399123968135546\n",
      "\n"
     ]
    }
   ],
   "source": [
    "\n",
    "proceed=True\n",
    "for l,x,y in zip(tqdm_notebook(langs, desc='languages'),xtests,ytests):\n",
    "    try:\n",
    "        #if l==['Bulgarian', 'bg']:\n",
    "        #proceed=True\n",
    "            \n",
    "        if proceed:\n",
    "            print(l, get_udpipe_lemm(l[1], 'Internet'))\n",
    "\n",
    "            udpipe_ytest=[]\n",
    "            corr_count=0\n",
    "            for w,lemm in zip(tqdm_notebook(x, desc='words'),y):\n",
    "                try:\n",
    "                    udpipe_lemm=get_udpipe_lemm(l[1], w)\n",
    "                    udpipe_ytest.append(udpipe_lemm)\n",
    "                    if udpipe_lemm==lemm:\n",
    "                        corr_count+=1\n",
    "                except:\n",
    "                    udpipe_ytest.append('UNK')\n",
    "                    continue\n",
    "            acc=corr_count/len(y)\n",
    "            print('UDPIPE accuracy',acc)\n",
    "            \n",
    "            #write accuracy results to csv\n",
    "            f=open('UDPipe_acc_res.csv','a', encoding='utf8')\n",
    "            f.write(l[0]+';'+l[1]+';'+str(acc)+'\\n')\n",
    "            f.close()\n",
    "            \n",
    "            #save UDPipe answers\n",
    "            save_obj(udpipe_ytest,'udpipe_ytests_'+l[1])\n",
    "            \n",
    "            \n",
    "    except:\n",
    "        continue"
   ]
  },
  {
   "cell_type": "code",
   "execution_count": null,
   "metadata": {},
   "outputs": [],
   "source": []
  }
 ],
 "metadata": {
  "kernelspec": {
   "display_name": "Python 3",
   "language": "python",
   "name": "python3"
  },
  "language_info": {
   "codemirror_mode": {
    "name": "ipython",
    "version": 3
   },
   "file_extension": ".py",
   "mimetype": "text/x-python",
   "name": "python",
   "nbconvert_exporter": "python",
   "pygments_lexer": "ipython3",
   "version": "3.7.3"
  },
  "toc": {
   "base_numbering": 1,
   "nav_menu": {},
   "number_sections": true,
   "sideBar": true,
   "skip_h1_title": false,
   "title_cell": "Table of Contents",
   "title_sidebar": "Contents",
   "toc_cell": true,
   "toc_position": {
    "height": "calc(100% - 180px)",
    "left": "10px",
    "top": "150px",
    "width": "165px"
   },
   "toc_section_display": true,
   "toc_window_display": true
  },
  "varInspector": {
   "cols": {
    "lenName": 16,
    "lenType": 16,
    "lenVar": 40
   },
   "kernels_config": {
    "python": {
     "delete_cmd_postfix": "",
     "delete_cmd_prefix": "del ",
     "library": "var_list.py",
     "varRefreshCmd": "print(var_dic_list())"
    },
    "r": {
     "delete_cmd_postfix": ") ",
     "delete_cmd_prefix": "rm(",
     "library": "var_list.r",
     "varRefreshCmd": "cat(var_dic_list()) "
    }
   },
   "oldHeight": 193,
   "position": {
    "height": "215px",
    "left": "996px",
    "right": "20px",
    "top": "119px",
    "width": "350px"
   },
   "types_to_exclude": [
    "module",
    "function",
    "builtin_function_or_method",
    "instance",
    "_Feature"
   ],
   "varInspector_section_display": "block",
   "window_display": false
  }
 },
 "nbformat": 4,
 "nbformat_minor": 2
}
